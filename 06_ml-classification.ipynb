{
 "cells": [
  {
   "cell_type": "markdown",
   "id": "a0ec574a",
   "metadata": {},
   "source": [
    "\n",
    "# 06 — Machine Learning: Predict Launch Success (Classification)\n",
    "\n",
    "**Goal:** Build several classification models to predict `launch_success` and report:\n",
    "- A **bar chart** comparing model accuracies.\n",
    "- The **best model** and its **confusion matrix**.\n",
    "- A short list of **conclusions**.\n",
    "\n",
    "**Inputs**\n",
    "- `data/launches_clean.csv` (from wrangling)\n",
    "\n",
    "**Artifacts saved to `./artifacts`**\n",
    "- `(ML) model_accuracy.png`\n",
    "- `(ML) confusion_matrix_best.png`\n",
    "- `ml_accuracies.csv`\n",
    "- `best_model_name.txt`\n"
   ]
  },
  {
   "cell_type": "markdown",
   "id": "f982a6f8",
   "metadata": {},
   "source": [
    "## Setup & Load Data"
   ]
  },
  {
   "cell_type": "code",
   "execution_count": 10,
   "id": "f9db2e56",
   "metadata": {},
   "outputs": [
    {
     "name": "stdout",
     "output_type": "stream",
     "text": [
      "Rows loaded: 192\n"
     ]
    },
    {
     "data": {
      "text/html": [
       "<div>\n",
       "<style scoped>\n",
       "    .dataframe tbody tr th:only-of-type {\n",
       "        vertical-align: middle;\n",
       "    }\n",
       "\n",
       "    .dataframe tbody tr th {\n",
       "        vertical-align: top;\n",
       "    }\n",
       "\n",
       "    .dataframe thead th {\n",
       "        text-align: right;\n",
       "    }\n",
       "</style>\n",
       "<table border=\"1\" class=\"dataframe\">\n",
       "  <thead>\n",
       "    <tr style=\"text-align: right;\">\n",
       "      <th></th>\n",
       "      <th>flight_number</th>\n",
       "      <th>date_utc</th>\n",
       "      <th>year</th>\n",
       "      <th>date</th>\n",
       "      <th>launch_site</th>\n",
       "      <th>site_region</th>\n",
       "      <th>site_locality</th>\n",
       "      <th>site_lat</th>\n",
       "      <th>site_lon</th>\n",
       "      <th>rocket_name</th>\n",
       "      <th>...</th>\n",
       "      <th>launch_success</th>\n",
       "      <th>landing_outcome</th>\n",
       "      <th>landing_outcome_kind</th>\n",
       "      <th>payload_id</th>\n",
       "      <th>payload_name</th>\n",
       "      <th>payload_mass_kg</th>\n",
       "      <th>orbit</th>\n",
       "      <th>customers</th>\n",
       "      <th>nationalities</th>\n",
       "      <th>is_nasa</th>\n",
       "    </tr>\n",
       "  </thead>\n",
       "  <tbody>\n",
       "    <tr>\n",
       "      <th>0</th>\n",
       "      <td>6</td>\n",
       "      <td>2010-06-04 18:45:00+00:00</td>\n",
       "      <td>2010</td>\n",
       "      <td>2010-06-04</td>\n",
       "      <td>CCSFS SLC 40</td>\n",
       "      <td>Florida</td>\n",
       "      <td>Cape Canaveral</td>\n",
       "      <td>28.561857</td>\n",
       "      <td>-80.577366</td>\n",
       "      <td>Falcon 9</td>\n",
       "      <td>...</td>\n",
       "      <td>True</td>\n",
       "      <td>No attempt</td>\n",
       "      <td>no_attempt</td>\n",
       "      <td>5eb0e4b7b6c3bb0006eeb1e7</td>\n",
       "      <td>Dragon Qualification Unit</td>\n",
       "      <td>NaN</td>\n",
       "      <td>LEO</td>\n",
       "      <td>SpaceX</td>\n",
       "      <td>United States</td>\n",
       "      <td>False</td>\n",
       "    </tr>\n",
       "    <tr>\n",
       "      <th>1</th>\n",
       "      <td>7</td>\n",
       "      <td>2010-12-08 15:43:00+00:00</td>\n",
       "      <td>2010</td>\n",
       "      <td>2010-12-08</td>\n",
       "      <td>CCSFS SLC 40</td>\n",
       "      <td>Florida</td>\n",
       "      <td>Cape Canaveral</td>\n",
       "      <td>28.561857</td>\n",
       "      <td>-80.577366</td>\n",
       "      <td>Falcon 9</td>\n",
       "      <td>...</td>\n",
       "      <td>True</td>\n",
       "      <td>No attempt</td>\n",
       "      <td>no_attempt</td>\n",
       "      <td>5eb0e4b9b6c3bb0006eeb1e8</td>\n",
       "      <td>COTS Demo Flight 1</td>\n",
       "      <td>NaN</td>\n",
       "      <td>LEO</td>\n",
       "      <td>NASA(COTS)</td>\n",
       "      <td>United States</td>\n",
       "      <td>True</td>\n",
       "    </tr>\n",
       "    <tr>\n",
       "      <th>2</th>\n",
       "      <td>7</td>\n",
       "      <td>2010-12-08 15:43:00+00:00</td>\n",
       "      <td>2010</td>\n",
       "      <td>2010-12-08</td>\n",
       "      <td>CCSFS SLC 40</td>\n",
       "      <td>Florida</td>\n",
       "      <td>Cape Canaveral</td>\n",
       "      <td>28.561857</td>\n",
       "      <td>-80.577366</td>\n",
       "      <td>Falcon 9</td>\n",
       "      <td>...</td>\n",
       "      <td>True</td>\n",
       "      <td>No attempt</td>\n",
       "      <td>no_attempt</td>\n",
       "      <td>5eb0e4b9b6c3bb0006eeb1e9</td>\n",
       "      <td>Cubesats</td>\n",
       "      <td>NaN</td>\n",
       "      <td>LEO</td>\n",
       "      <td>NRO</td>\n",
       "      <td>NaN</td>\n",
       "      <td>False</td>\n",
       "    </tr>\n",
       "  </tbody>\n",
       "</table>\n",
       "<p>3 rows × 23 columns</p>\n",
       "</div>"
      ],
      "text/plain": [
       "   flight_number                  date_utc  year        date   launch_site  \\\n",
       "0              6 2010-06-04 18:45:00+00:00  2010  2010-06-04  CCSFS SLC 40   \n",
       "1              7 2010-12-08 15:43:00+00:00  2010  2010-12-08  CCSFS SLC 40   \n",
       "2              7 2010-12-08 15:43:00+00:00  2010  2010-12-08  CCSFS SLC 40   \n",
       "\n",
       "  site_region   site_locality   site_lat   site_lon rocket_name  ...  \\\n",
       "0     Florida  Cape Canaveral  28.561857 -80.577366    Falcon 9  ...   \n",
       "1     Florida  Cape Canaveral  28.561857 -80.577366    Falcon 9  ...   \n",
       "2     Florida  Cape Canaveral  28.561857 -80.577366    Falcon 9  ...   \n",
       "\n",
       "  launch_success  landing_outcome landing_outcome_kind  \\\n",
       "0           True       No attempt           no_attempt   \n",
       "1           True       No attempt           no_attempt   \n",
       "2           True       No attempt           no_attempt   \n",
       "\n",
       "                 payload_id               payload_name payload_mass_kg orbit  \\\n",
       "0  5eb0e4b7b6c3bb0006eeb1e7  Dragon Qualification Unit             NaN   LEO   \n",
       "1  5eb0e4b9b6c3bb0006eeb1e8         COTS Demo Flight 1             NaN   LEO   \n",
       "2  5eb0e4b9b6c3bb0006eeb1e9                   Cubesats             NaN   LEO   \n",
       "\n",
       "    customers  nationalities is_nasa  \n",
       "0      SpaceX  United States   False  \n",
       "1  NASA(COTS)  United States    True  \n",
       "2         NRO            NaN   False  \n",
       "\n",
       "[3 rows x 23 columns]"
      ]
     },
     "execution_count": 10,
     "metadata": {},
     "output_type": "execute_result"
    }
   ],
   "source": [
    "\n",
    "# If needed:\n",
    "# %pip install pandas numpy scikit-learn matplotlib\n",
    "\n",
    "import pandas as pd\n",
    "import numpy as np\n",
    "import matplotlib.pyplot as plt\n",
    "from pathlib import Path\n",
    "\n",
    "from sklearn.model_selection import train_test_split\n",
    "from sklearn.compose import ColumnTransformer\n",
    "from sklearn.preprocessing import OneHotEncoder, StandardScaler\n",
    "from sklearn.pipeline import Pipeline\n",
    "from sklearn.metrics import accuracy_score, confusion_matrix, ConfusionMatrixDisplay, classification_report\n",
    "\n",
    "from sklearn.linear_model import LogisticRegression\n",
    "from sklearn.svm import SVC\n",
    "from sklearn.tree import DecisionTreeClassifier\n",
    "from sklearn.neighbors import KNeighborsClassifier\n",
    "\n",
    "DATA_DIR = Path(\"./data\")\n",
    "ARTIFACTS_DIR = Path(\"./artifacts\")\n",
    "ARTIFACTS_DIR.mkdir(exist_ok=True, parents=True)\n",
    "\n",
    "CSV_PATH = DATA_DIR / \"launches_clean.csv\"\n",
    "assert CSV_PATH.exists(), \"Missing data/launches_clean.csv — run previous notebooks.\"\n",
    "\n",
    "df = pd.read_csv(CSV_PATH, parse_dates=[\"date_utc\"], dtype={\"flight_number\":\"Int64\",\"year\":\"Int64\"})\n",
    "print(\"Rows loaded:\", len(df))\n",
    "df.head(3)\n"
   ]
  },
  {
   "cell_type": "markdown",
   "id": "d016fa06",
   "metadata": {},
   "source": [
    "## Feature Selection (avoid leakage)"
   ]
  },
  {
   "cell_type": "code",
   "execution_count": 13,
   "id": "038abd1d",
   "metadata": {},
   "outputs": [
    {
     "name": "stdout",
     "output_type": "stream",
     "text": [
      "Numeric features: ['payload_mass_kg', 'booster_block', 'year']\n",
      "Categorical features: ['orbit', 'booster_version', 'launch_site']\n"
     ]
    },
    {
     "data": {
      "text/html": [
       "<div>\n",
       "<style scoped>\n",
       "    .dataframe tbody tr th:only-of-type {\n",
       "        vertical-align: middle;\n",
       "    }\n",
       "\n",
       "    .dataframe tbody tr th {\n",
       "        vertical-align: top;\n",
       "    }\n",
       "\n",
       "    .dataframe thead th {\n",
       "        text-align: right;\n",
       "    }\n",
       "</style>\n",
       "<table border=\"1\" class=\"dataframe\">\n",
       "  <thead>\n",
       "    <tr style=\"text-align: right;\">\n",
       "      <th></th>\n",
       "      <th>payload_mass_kg</th>\n",
       "      <th>orbit</th>\n",
       "      <th>booster_block</th>\n",
       "      <th>booster_version</th>\n",
       "      <th>launch_site</th>\n",
       "      <th>year</th>\n",
       "    </tr>\n",
       "  </thead>\n",
       "  <tbody>\n",
       "    <tr>\n",
       "      <th>173</th>\n",
       "      <td>13260.0</td>\n",
       "      <td>VLEO</td>\n",
       "      <td>5</td>\n",
       "      <td>Block 5</td>\n",
       "      <td>CCSFS SLC 40</td>\n",
       "      <td>2022</td>\n",
       "    </tr>\n",
       "    <tr>\n",
       "      <th>81</th>\n",
       "      <td>2227.7</td>\n",
       "      <td>ISS</td>\n",
       "      <td>5</td>\n",
       "      <td>Block 5</td>\n",
       "      <td>CCSFS SLC 40</td>\n",
       "      <td>2019</td>\n",
       "    </tr>\n",
       "  </tbody>\n",
       "</table>\n",
       "</div>"
      ],
      "text/plain": [
       "     payload_mass_kg orbit  booster_block booster_version   launch_site  year\n",
       "173          13260.0  VLEO              5         Block 5  CCSFS SLC 40  2022\n",
       "81            2227.7   ISS              5         Block 5  CCSFS SLC 40  2019"
      ]
     },
     "execution_count": 13,
     "metadata": {},
     "output_type": "execute_result"
    }
   ],
   "source": [
    "\n",
    "# Target\n",
    "y = df['launch_success'].map({True:1, False:0, \"True\":1, \"False\":0, 1:1, 0:0}).astype('Int64')\n",
    "\n",
    "# Drop rows where y is NA\n",
    "mask = y.notna()\n",
    "df = df.loc[mask].copy()\n",
    "y = y.loc[mask].astype(int)\n",
    "\n",
    "# Avoid leakage: DO NOT use 'landing_outcome' (post-landing), or other clearly post-event fields\n",
    "drop_cols = [\n",
    "    'landing_outcome', 'landing_outcome_kind',\n",
    "    'payload_id', 'payload_name',\n",
    "    'core_serial'\n",
    "]\n",
    "\n",
    "# Candidate predictors (pre-launch or planning-known features)\n",
    "cand_cols = [\n",
    "    'payload_mass_kg',        # numeric\n",
    "    'orbit',                  # categorical\n",
    "    'booster_block',          # numeric (may be NaN)\n",
    "    'booster_version',        # categorical (mapped earlier)\n",
    "    'launch_site',            # categorical\n",
    "    'year'                    # numeric\n",
    "]\n",
    "\n",
    "X = df[[c for c in cand_cols if c in df.columns]].copy()\n",
    "\n",
    "# Basic cleaning\n",
    "X['payload_mass_kg'] = pd.to_numeric(X['payload_mass_kg'], errors='coerce')\n",
    "if 'booster_block' in X.columns:\n",
    "    X['booster_block'] = pd.to_numeric(X['booster_block'], errors='coerce')\n",
    "if 'year' in X.columns:\n",
    "    X['year'] = pd.to_numeric(X['year'], errors='coerce')\n",
    "\n",
    "# Define feature types\n",
    "numeric_features = [c for c in ['payload_mass_kg','booster_block','year'] if c in X.columns]\n",
    "categorical_features = [c for c in ['orbit','booster_version','launch_site'] if c in X.columns]\n",
    "\n",
    "print(\"Numeric features:\", numeric_features)\n",
    "print(\"Categorical features:\", categorical_features)\n",
    "\n",
    "# Train/test split (stratified)\n",
    "X_train, X_test, y_train, y_test = train_test_split(\n",
    "    X, y, test_size=0.2, random_state=42, stratify=y\n",
    ")\n",
    "X_train.head(2)\n"
   ]
  },
  {
   "cell_type": "markdown",
   "id": "bb9c4b99",
   "metadata": {},
   "source": [
    "## Pipelines & Models"
   ]
  },
  {
   "cell_type": "code",
   "execution_count": 23,
   "id": "c9a8d796",
   "metadata": {},
   "outputs": [
    {
     "data": {
      "text/plain": [
       "['LogisticRegression', 'SVM (RBF)', 'DecisionTree', 'KNN (k=7)']"
      ]
     },
     "execution_count": 23,
     "metadata": {},
     "output_type": "execute_result"
    }
   ],
   "source": [
    "from sklearn.impute import SimpleImputer\n",
    "from sklearn.pipeline import Pipeline\n",
    "from sklearn.compose import ColumnTransformer\n",
    "from sklearn.preprocessing import OneHotEncoder, StandardScaler\n",
    "\n",
    "# (Assumes numeric_features & categorical_features already defined)\n",
    "\n",
    "preprocess = ColumnTransformer(\n",
    "    transformers=[\n",
    "        ('num', Pipeline(steps=[\n",
    "            ('imputer', SimpleImputer(strategy='median')),\n",
    "            ('scaler', StandardScaler())  # dense OK here\n",
    "        ]), numeric_features),\n",
    "        ('cat', Pipeline(steps=[\n",
    "            ('imputer', SimpleImputer(strategy='most_frequent')),\n",
    "            ('ohe', OneHotEncoder(handle_unknown='ignore'))  # sparse output is fine\n",
    "        ]), categorical_features)\n",
    "    ],\n",
    "    remainder='drop'\n",
    ")\n",
    "\n",
    "\n",
    "models = {\n",
    "    'LogisticRegression': LogisticRegression(max_iter=2000),\n",
    "    'SVM (RBF)': SVC(kernel='rbf'),\n",
    "    'DecisionTree': DecisionTreeClassifier(random_state=42),\n",
    "    'KNN (k=7)': KNeighborsClassifier(n_neighbors=7)\n",
    "}\n",
    "\n",
    "pipelines = {name: Pipeline(steps=[('preprocess', preprocess), ('model', clf)])\n",
    "             for name, clf in models.items()}\n",
    "list(pipelines.keys())\n"
   ]
  },
  {
   "cell_type": "markdown",
   "id": "1e8d387d",
   "metadata": {},
   "source": [
    "## Train & Evaluate"
   ]
  },
  {
   "cell_type": "code",
   "execution_count": 26,
   "id": "36ce8a42",
   "metadata": {},
   "outputs": [
    {
     "name": "stdout",
     "output_type": "stream",
     "text": [
      "LogisticRegression: accuracy = 1.0000\n",
      "SVM (RBF): accuracy = 1.0000\n",
      "DecisionTree: accuracy = 1.0000\n",
      "KNN (k=7): accuracy = 1.0000\n"
     ]
    },
    {
     "data": {
      "image/png": "[encoded data removed]",
      "text/plain": [
       "<Figure size 800x500 with 1 Axes>"
      ]
     },
     "metadata": {},
     "output_type": "display_data"
    },
    {
     "name": "stdout",
     "output_type": "stream",
     "text": [
      "Best model: LogisticRegression\n"
     ]
    }
   ],
   "source": [
    "\n",
    "results = []\n",
    "for name, pipe in pipelines.items():\n",
    "    pipe.fit(X_train, y_train)\n",
    "    preds = pipe.predict(X_test)\n",
    "    acc = accuracy_score(y_test, preds)\n",
    "    results.append({'model': name, 'accuracy': acc})\n",
    "    print(f\"{name}: accuracy = {acc:.4f}\")\n",
    "\n",
    "res_df = pd.DataFrame(results).sort_values('accuracy', ascending=False).reset_index(drop=True)\n",
    "res_df.to_csv(ARTIFACTS_DIR / \"ml_accuracies.csv\", index=False)\n",
    "\n",
    "# Bar chart\n",
    "plt.figure(figsize=(8,5))\n",
    "plt.bar(res_df['model'], res_df['accuracy'])\n",
    "plt.title(\"Model Accuracy (Test Set)\")\n",
    "plt.ylabel(\"Accuracy\")\n",
    "plt.ylim(0,1)\n",
    "for i, r in res_df.iterrows():\n",
    "    plt.text(i, r['accuracy']+0.01, f\"{r['accuracy']:.2f}\", ha='center', va='bottom')\n",
    "plt.xticks(rotation=15)\n",
    "plt.tight_layout()\n",
    "plt.savefig(ARTIFACTS_DIR / \"(ML) model_accuracy.png\", dpi=180)\n",
    "plt.show()\n",
    "\n",
    "best_row = res_df.iloc[0]\n",
    "best_model_name = best_row['model']\n",
    "print(\"Best model:\", best_model_name)\n",
    "\n",
    "# Persist best model name\n",
    "with open(ARTIFACTS_DIR / \"best_model_name.txt\", \"w\") as f:\n",
    "    f.write(str(best_model_name))\n"
   ]
  },
  {
   "cell_type": "markdown",
   "id": "92f3b8ac",
   "metadata": {},
   "source": [
    "## Confusion Matrix for Best Model"
   ]
  },
  {
   "cell_type": "code",
   "execution_count": 29,
   "id": "e1c4ae75",
   "metadata": {},
   "outputs": [
    {
     "data": {
      "text/plain": [
       "<Figure size 500x400 with 0 Axes>"
      ]
     },
     "metadata": {},
     "output_type": "display_data"
    },
    {
     "data": {
      "image/png": "[encoded data removed]",
      "text/plain": [
       "<Figure size 640x480 with 2 Axes>"
      ]
     },
     "metadata": {},
     "output_type": "display_data"
    },
    {
     "name": "stdout",
     "output_type": "stream",
     "text": [
      "\n",
      "Classification report:\n",
      "\n",
      "              precision    recall  f1-score   support\n",
      "\n",
      "           1      1.000     1.000     1.000        39\n",
      "\n",
      "    accuracy                          1.000        39\n",
      "   macro avg      1.000     1.000     1.000        39\n",
      "weighted avg      1.000     1.000     1.000        39\n",
      "\n"
     ]
    }
   ],
   "source": [
    "\n",
    "best_pipe = pipelines[best_model_name]\n",
    "y_pred_best = best_pipe.predict(X_test)\n",
    "cm = confusion_matrix(y_test, y_pred_best, labels=[0,1])\n",
    "disp = ConfusionMatrixDisplay(confusion_matrix=cm, display_labels=['Failure (0)','Success (1)'])\n",
    "plt.figure(figsize=(5,4))\n",
    "disp.plot(values_format='d', cmap='Blues')\n",
    "plt.title(f\"Confusion Matrix — {best_model_name}\")\n",
    "plt.tight_layout()\n",
    "plt.savefig(ARTIFACTS_DIR / \"(ML) confusion_matrix_best.png\", dpi=180)\n",
    "plt.show()\n",
    "\n",
    "print(\"\\nClassification report:\\n\")\n",
    "print(classification_report(y_test, y_pred_best, digits=3))\n"
   ]
  },
  {
   "cell_type": "markdown",
   "id": "e4d91c63",
   "metadata": {},
   "source": [
    "\n",
    "## Conclusions (fill in with your results)\n",
    "\n",
    "- **Best model:** The confusion matrix above corresponds to the highest-accuracy model on the held-out test set.\n",
    "- **Feature influence (intuition):** Payload mass, orbit, and booster generation (version/block) often correlate with success rates due to mission profile and hardware maturity.\n",
    "- **Reliability trend:** As the fleet matured (e.g., Block 5), success rates generally improved — consistent with EDA trends.\n",
    "- **Next steps (optional):** Try cross-validation & hyperparameter tuning (e.g., GridSearchCV) and add richer engineered features (e.g., per-flight aggregates, cadence by year) to improve generalization.\n"
   ]
  },
  {
   "cell_type": "code",
   "execution_count": null,
   "id": "8214a2eb-cb5b-46c1-aacb-ef366ad847c5",
   "metadata": {},
   "outputs": [],
   "source": []
  }
 ],
 "metadata": {
  "kernelspec": {
   "display_name": "Python 3 (ipykernel)",
   "language": "python",
   "name": "python3"
  },
  "language_info": {
   "codemirror_mode": {
    "name": "ipython",
    "version": 3
   },
   "file_extension": ".py",
   "mimetype": "text/x-python",
   "name": "python",
   "nbconvert_exporter": "python",
   "pygments_lexer": "ipython3",
   "version": "3.12.4"
  }
 },
 "nbformat": 4,
 "nbformat_minor": 5
}
